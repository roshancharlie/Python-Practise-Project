{
 "cells": [
  {
   "cell_type": "code",
   "execution_count": 1,
   "id": "72e69c94",
   "metadata": {},
   "outputs": [],
   "source": [
    "import random\n",
    "import pandas as pd\n",
    "from prettytable import PrettyTable"
   ]
  },
  {
   "cell_type": "code",
   "execution_count": 2,
   "id": "53a36234",
   "metadata": {
    "scrolled": true
   },
   "outputs": [],
   "source": [
    "# Madlib Game \n",
    "def madlib():\n",
    "    time_of_day = input(\"Time of Day: \")\n",
    "    body_part_plural = input(\"Body Part (plural): \")\n",
    "    color = input(\"Color: \")\n",
    "    verb_past_tense = input(\"Verb (past tense): \")\n",
    "    food = input(\"Food: \")\n",
    "    noun1 = input(\"Noun: \")\n",
    "    noun_plural_1 = input(\"Noun (plural): \")\n",
    "    adj1 = input(\"Adjective: \")\n",
    "    adj2 = input(\"Adjective: \")\n",
    "    adj3 = input(\"Adjective: \")\n",
    "\n",
    "\n",
    "    madlib = f\"It was a {adj1} summer {time_of_day} when we realized that the vaccine to stop \\\n",
    "spread of the disease did not work. Instead, it produced ZOMBIES !!! They were thirsty for {body_part_plural} \\\n",
    "and the streets were lined with these monsters holding {noun_plural_1} in their hands. \\\n",
    "Their eyes were {color} with hunger as they {verb_past_tense} around the city looking for {food}. \\\n",
    "They were {adj2} and {adj3}, unknowing how to act in this human world... except eat {body_part_plural}!!!! \\\n",
    "That was their sole mission and they were dedicated towards achieving it for the sake of {noun1}.\"\n",
    "    \n",
    "    print(madlib)"
   ]
  },
  {
   "cell_type": "code",
   "execution_count": 3,
   "id": "c960fa2b",
   "metadata": {},
   "outputs": [
    {
     "name": "stdout",
     "output_type": "stream",
     "text": [
      "Time of Day: 2\n",
      "Body Part (plural): face\n",
      "Color: maroon\n",
      "Verb (past tense): killed\n",
      "Food: potato chips\n",
      "Noun: dragon\n",
      "Noun (plural): sheepies\n",
      "Adjective: a dress\n",
      "Adjective: a weapon'\n",
      "Adjective: a god\n",
      "It was a a dress summer 2 when we realized that the vaccine to stop spread of the disease did not work. Instead, it produced ZOMBIES !!! They were thirsty for face and the streets were lined with these monsters holding sheepies in their hands. Their eyes were maroon with hunger as they killed around the city looking for potato chips. They were a weapon' and a god, unknowing how to act in this human world... except eat face!!!! That was their sole mission and they were dedicated towards achieving it for the sake of dragon.\n"
     ]
    }
   ],
   "source": [
    "madlib()"
   ]
  },
  {
   "cell_type": "code",
   "execution_count": 5,
   "id": "84b13e6e",
   "metadata": {},
   "outputs": [],
   "source": [
    "# Guess The number\n",
    "def guess(x):\n",
    "    random_number = random.randint(1,x)\n",
    "    guess = 0\n",
    "    while guess != random_number:\n",
    "        guess = int(input(f'Guess a number between 1 and {x}: '))\n",
    "        if guess < random_number:\n",
    "            print('Sorry, guess again. Too low')\n",
    "        elif guess > random_number:\n",
    "            print('Sorry, guess again. Too high')\n",
    "    \n",
    "    print('Yay, congrats. You have guessed the number  ')"
   ]
  },
  {
   "cell_type": "code",
   "execution_count": 6,
   "id": "56c8724c",
   "metadata": {},
   "outputs": [
    {
     "name": "stdout",
     "output_type": "stream",
     "text": [
      "Guess a number between 1 and 100: 212\n",
      "Sorry, guess again. Too high\n",
      "Guess a number between 1 and 100: 1\n",
      "Sorry, guess again. Too low\n",
      "Guess a number between 1 and 100: 10\n",
      "Sorry, guess again. Too low\n",
      "Guess a number between 1 and 100: 90\n",
      "Sorry, guess again. Too high\n",
      "Guess a number between 1 and 100: 50\n",
      "Sorry, guess again. Too low\n",
      "Guess a number between 1 and 100: 60\n",
      "Sorry, guess again. Too high\n",
      "Guess a number between 1 and 100: 55\n",
      "Sorry, guess again. Too high\n",
      "Guess a number between 1 and 100: 57\n",
      "Sorry, guess again. Too high\n",
      "Guess a number between 1 and 100: 54\n",
      "Sorry, guess again. Too high\n",
      "Guess a number between 1 and 100: 53\n",
      "Sorry, guess again. Too high\n",
      "Guess a number between 1 and 100: 51\n",
      "Yay, congrats. You have guessed the number  \n"
     ]
    }
   ],
   "source": [
    "guess(100)"
   ]
  },
  {
   "cell_type": "code",
   "execution_count": 8,
   "id": "ec2cb556",
   "metadata": {},
   "outputs": [
    {
     "name": "stdout",
     "output_type": "stream",
     "text": [
      "Enter a Number: 20\n",
      "The factorial is 2432902008176640000.\n",
      "The Number Of Trailing Zero is 4.\n"
     ]
    }
   ],
   "source": [
    "# Factorial Of a Number and Number Of Zeros Trailing The Number.\n",
    "def factorial(number):\n",
    "    if number==0 or number==1:\n",
    "        return 1\n",
    "    else:\n",
    "        return number * factorial(number-1)\n",
    "def factorialTrailingZeros(number):\n",
    "    fac = factorial(number)\n",
    "    print(f\"The factorial is {fac}.\")\n",
    "    count = 0\n",
    "    i = 5\n",
    "    while (number//i !=0):\n",
    "        count+= int(number/i)\n",
    "        i = i*5\n",
    "    return count\n",
    "\n",
    "if __name__ == '__main__':\n",
    "    number = int(input('Enter a Number: '))\n",
    "    print(f\"The Number Of Trailing Zero is {factorialTrailingZeros(number)}.\")"
   ]
  },
  {
   "cell_type": "code",
   "execution_count": 2,
   "id": "18dc92d7",
   "metadata": {},
   "outputs": [],
   "source": [
    "# Chaotic function\n",
    "def  main():\n",
    "    global df\n",
    "    n = int(input(\"How  many  numbers  should  I  print?  \"))\n",
    "    print(\"This  program  illustrates  a  chaotic  function.\") \n",
    "    x  =  float(input(\"Enter  the first  number  between  0  and  1:  \"))\n",
    "    y  =  float(input(\"Enter  the second  number  between  0  and  1:  \"))\n",
    "    X = []\n",
    "    Y = []\n",
    "    for i  in  range(n):\n",
    "        x = 3.9  *  x  *  ( 1  - x)\n",
    "        X.append(x)\n",
    "        y = 3.9  *  y  *  ( 1  - y)\n",
    "        Y.append(y)\n",
    "        df = pd.DataFrame(list(zip(X, Y)),\n",
    "               columns =['1st Number', '2nd Number'])\n",
    "        \n",
    "        print(df + (x,y))"
   ]
  },
  {
   "cell_type": "code",
   "execution_count": 5,
   "id": "c815d187",
   "metadata": {
    "scrolled": false
   },
   "outputs": [
    {
     "name": "stdout",
     "output_type": "stream",
     "text": [
      "How  many  numbers  should  I  print?  5\n",
      "This  program  illustrates  a  chaotic  function.\n",
      "Enter  the first  number  between  0  and  1:  0.4\n",
      "Enter  the second  number  between  0  and  1:  0.6\n",
      "   1st Number  2nd Number\n",
      "0       1.872       1.872\n",
      "   1st Number  2nd Number\n",
      "0    1.169626    1.169626\n",
      "1    0.467251    0.467251\n",
      "   1st Number  2nd Number\n",
      "0    1.634274    1.634274\n",
      "1    0.931900    0.931900\n",
      "2    1.396548    1.396548\n",
      "   1st Number  2nd Number\n",
      "0    1.757681    1.757681\n",
      "1    1.055306    1.055306\n",
      "2    1.519955    1.519955\n",
      "3    1.643361    1.643361\n",
      "   1st Number  2nd Number\n",
      "0    1.507434    1.507434\n",
      "1    0.805060    0.805060\n",
      "2    1.269709    1.269709\n",
      "3    1.393115    1.393115\n",
      "4    1.142869    1.142869\n"
     ]
    }
   ],
   "source": [
    "main()"
   ]
  },
  {
   "cell_type": "code",
   "execution_count": 27,
   "id": "f4accf98",
   "metadata": {},
   "outputs": [],
   "source": [
    "def  bill():\n",
    "    print('|--------------WELCOME TO XYZ Shop--------------| \\n')\n",
    "    global df\n",
    "    total = 0\n",
    "    X = []\n",
    "    Y = []\n",
    "    while(True):\n",
    "        name = input('Enter Item name: ')\n",
    "        X.append(name)\n",
    "        if(name != 'q'):\n",
    "            price = int(input('Enter the Price: '))\n",
    "            Y.append(price)\n",
    "            total += price\n",
    "            df = pd.DataFrame(list(zip(X, Y)),columns =['Item Name', 'Item Price'])\n",
    "        elif(name == 'q'):\n",
    "            print(df)\n",
    "            print('Your total bill amount is $', total,'/- \\nThanks for shopping with us :) ')\n",
    "            break"
   ]
  },
  {
   "cell_type": "code",
   "execution_count": 28,
   "id": "1962fa8b",
   "metadata": {},
   "outputs": [
    {
     "name": "stdout",
     "output_type": "stream",
     "text": [
      "|--------------WELCOME TO XYZ Shop--------------| \n",
      "\n",
      "Enter Item name: Rice\n",
      "Enter the Price: 100\n",
      "Enter Item name: Egg\n",
      "Enter the Price: 23\n",
      "Enter Item name: Sugar\n",
      "Enter the Price: 25\n",
      "Enter Item name: q\n",
      "  Item Name  Item Price\n",
      "0      Rice         100\n",
      "1       Egg          23\n",
      "2     Sugar          25\n",
      "Your total bill amount is $ 148 /- \n",
      "Thanks for shopping with us :) \n"
     ]
    }
   ],
   "source": [
    "bill()"
   ]
  },
  {
   "cell_type": "code",
   "execution_count": 6,
   "id": "3a8948a1",
   "metadata": {},
   "outputs": [
    {
     "name": "stdout",
     "output_type": "stream",
     "text": [
      "--------------WELCOME TO XYZ Shop--------------\n",
      "\n",
      "Enter Item name:Rice\n",
      "Enter the Price:10\n",
      "Enter Item name:Chips\n",
      "Enter the Price:5\n",
      "Enter Item name:Cake\n",
      "Enter the Price:9\n",
      "Enter Item name:Juice\n",
      "Enter the Price:12\n",
      "Enter Item name:Fruit\n",
      "Enter the Price:15\n",
      "Enter Item name:Egg\n",
      "Enter the Price:7\n",
      "Enter Item name:q\n",
      "+-----------+------------+\n",
      "| Item Name | Item Price |\n",
      "+-----------+------------+\n",
      "|    Rice   |     10     |\n",
      "|   Chips   |     5      |\n",
      "|    Cake   |     9      |\n",
      "|   Juice   |     12     |\n",
      "|   Fruit   |     15     |\n",
      "|    Egg    |     7      |\n",
      "|   TOTAL   |     58     |\n",
      "+-----------+------------+\n",
      "\n",
      "Thanks for shopping with us :)\n"
     ]
    }
   ],
   "source": [
    "print('--------------WELCOME TO XYZ Shop--------------\\n')\n",
    "table = PrettyTable(['Item Name', 'Item Price'])\n",
    "total = 0\n",
    "  \n",
    "while(1):\n",
    "    name = input('Enter Item name:')\n",
    "      \n",
    "    if(name != 'q'):\n",
    "        price = int(input('Enter the Price:'))\n",
    "          \n",
    "        total += price\n",
    "        table.add_row([name, price])\n",
    "        continue\n",
    "      \n",
    "    elif(name == 'q'):\n",
    "        break\n",
    "          \n",
    "table.add_row(['TOTAL', total])\n",
    "print(table)\n",
    "print('\\nThanks for shopping with us :)')"
   ]
  },
  {
   "cell_type": "code",
   "execution_count": null,
   "id": "3c1d22ae",
   "metadata": {},
   "outputs": [],
   "source": []
  }
 ],
 "metadata": {
  "kernelspec": {
   "display_name": "Python 3 (ipykernel)",
   "language": "python",
   "name": "python3"
  },
  "language_info": {
   "codemirror_mode": {
    "name": "ipython",
    "version": 3
   },
   "file_extension": ".py",
   "mimetype": "text/x-python",
   "name": "python",
   "nbconvert_exporter": "python",
   "pygments_lexer": "ipython3",
   "version": "3.10.4"
  }
 },
 "nbformat": 4,
 "nbformat_minor": 5
}
